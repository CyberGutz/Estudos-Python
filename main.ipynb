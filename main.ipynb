{
 "cells": [
  {
   "cell_type": "markdown",
   "metadata": {},
   "source": [
    "# Referência de Python\n",
    "\n",
    "Comandos básicos e referências.\n",
    "\n",
    "**OBS: *** Esse guia supõe que o leitor tem o nivel básico/intermediário de lógica de programação, portanto não será explicado conceitos básicos."
   ]
  },
  {
   "cell_type": "markdown",
   "metadata": {},
   "source": [
    "## Variáveis\n",
    "\n",
    "Python é uma linguagem dinâmicamente tipada. Logo, não é necessário fazer a declaração do tipo da variável, apenas escrever seu nome. Dito isso, por trás da tipagem dinâmica temos esses tipos de variáveis:\n",
    "\n",
    "- int:      Números inteiros\n",
    "- float:    Números reais\n",
    "- complex:  Números Complexos\n",
    "- string:   Strings\n",
    "- bool:     Booleanos\n",
    "- list:     Listas\n",
    "- tuple:    Tuplas\n",
    "- dict:     Dicionários\n",
    "\n",
    "> A diferença de tuplas pra listas é que as tuplas não podem ser modificadas depois da sua definição, são imutáveis.\n",
    "\n",
    "Exemplos de declarações abaixo:"
   ]
  },
  {
   "cell_type": "code",
   "execution_count": null,
   "metadata": {},
   "outputs": [],
   "source": [
    "inteiro = 1\n",
    "\n",
    "real = 0.5\n",
    "\n",
    "complexo = 1+3j                                     #caracterizado por parte real+parte imaginária (seguido do sufixo j)\n",
    "\n",
    "strings = \"Bom dia\"\n",
    "\n",
    "booleano = True\n",
    "\n",
    "lista = ['um','dois','tres']                        #exemplo de lista de strings\n",
    "\n",
    "tupla = (1,2,3)\n",
    "\n",
    "dicio = {\"João\" : 2, \"Maria\" : 32, \"José\" : 16}     #exemplo de dicionário relacionando os nomes e idades de 3 pessoas\n"
   ]
  },
  {
   "cell_type": "markdown",
   "metadata": {},
   "source": [
    "Para os tipos de variável int, bool, float e string ainda é possível se fazer o *casting*, que é explicitar ou mudar o tipo de uma variável. \n",
    "\n",
    "*OBS:* Só não é possível castar variáveis string para os tipos numéricos, a menos que o que esteja na string seja um valor inteiro ou convertível para bool (1, 0, True, False).\n",
    "\n",
    "Veja os exemplos abaixo:\n"
   ]
  },
  {
   "cell_type": "code",
   "execution_count": null,
   "metadata": {},
   "outputs": [],
   "source": [
    " var = \"olá\"\n",
    " print(var)\n",
    " var = int"
   ]
  }
 ],
 "metadata": {
  "kernelspec": {
   "display_name": "Python 3.10.7 64-bit (microsoft store)",
   "language": "python",
   "name": "python3"
  },
  "language_info": {
   "codemirror_mode": {
    "name": "ipython",
    "version": 3
   },
   "file_extension": ".py",
   "mimetype": "text/x-python",
   "name": "python",
   "nbconvert_exporter": "python",
   "pygments_lexer": "ipython3",
   "version": "3.10.7"
  },
  "orig_nbformat": 4,
  "vscode": {
   "interpreter": {
    "hash": "eed5d0e98674c91e5b6a352f0a08e3131dd647db755fe385a4350c9735e61ebb"
   }
  }
 },
 "nbformat": 4,
 "nbformat_minor": 2
}
