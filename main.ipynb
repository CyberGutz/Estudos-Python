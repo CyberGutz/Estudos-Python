{
 "cells": [
  {
   "cell_type": "markdown",
   "metadata": {},
   "source": [
    "# Referência de Python\n",
    "\n",
    "Comandos básicos e referências.\n",
    "\n",
    "**OBS:** Esse guia supõe que o leitor tem o nivel básico/intermediário de lógica de programação, portanto não será explicado conceitos básicos."
   ]
  },
  {
   "cell_type": "markdown",
   "metadata": {},
   "source": [
    "## Variáveis\n",
    "\n",
    "Python é uma linguagem dinâmicamente tipada. Logo, não é necessário fazer a declaração do tipo da variável, apenas escrever seu nome. Dito isso, por trás da tipagem dinâmica temos esses tipos de variáveis:\n",
    "\n",
    "- int:      Números inteiros\n",
    "- float:    Números reais\n",
    "- complex:  Números Complexos\n",
    "- string:   Strings\n",
    "- bool:     Booleanos\n",
    "- list:     Listas\n",
    "- tuple:    Tuplas\n",
    "- dict:     Dicionários\n",
    "\n",
    "> A diferença de tuplas pra listas é que as tuplas não podem ser modificadas depois da sua definição, são imutáveis.\n",
    "\n",
    "Exemplos de declarações abaixo:"
   ]
  },
  {
   "cell_type": "code",
   "execution_count": null,
   "metadata": {},
   "outputs": [],
   "source": [
    "inteiro = 1\n",
    "\n",
    "real = 0.5\n",
    "\n",
    "complexo = 1+3j                                     #caracterizado por parte real+parte imaginária (seguido do sufixo j)\n",
    "\n",
    "strings = \"Bom dia\"\n",
    "\n",
    "booleano = True\n",
    "\n",
    "lista = ['um','dois','tres']                        #exemplo de lista de strings\n",
    "\n",
    "tupla = (1,2,3)\n",
    "\n",
    "dicio = {\"João\" : 2, \"Maria\" : 32, \"José\" : 16}     #exemplo de dicionário relacionando os nomes e idades de 3 pessoas\n"
   ]
  },
  {
   "cell_type": "markdown",
   "metadata": {},
   "source": [
    "Para os tipos de variável int, bool, float e string ainda é possível se fazer o *casting*, que é explicitar ou mudar o tipo de uma variável. \n",
    "\n",
    "*OBS:* Só não é possível castar variáveis string para os tipos numéricos, a menos que o que esteja na string seja um valor inteiro ou convertível para bool (1, 0, True, False).\n",
    "\n",
    "Veja o exemplo de uma conversão de inteiro pra string: (bônus: comando input)\n"
   ]
  },
  {
   "cell_type": "code",
   "execution_count": null,
   "metadata": {},
   "outputs": [],
   "source": [
    "var = 1\n",
    "print(var)\n",
    "print(type(var))\n",
    "var = str(var)\n",
    "print(\"olá \"+var)\n",
    "print(type(var))\n",
    "\n",
    "var2 = input()\n",
    "print(\"olá \"+var2)\n"
   ]
  },
  {
   "cell_type": "markdown",
   "metadata": {},
   "source": [
    "## Estrutura Condicional\n",
    "\n",
    "### Operadores lógicos\n",
    "\n",
    "Além dos operadores lógicos padrão, no python também temos algumas palavras que são interessantes para comparações lógicas ou condicionais. São elas *is, is not, and, or* e *not*."
   ]
  },
  {
   "cell_type": "code",
   "execution_count": null,
   "metadata": {},
   "outputs": [],
   "source": [
    "x = \"false\"\n",
    "y = \"true\"\n",
    "\n",
    "x is y              # x é o mesmo que yh\n",
    "x is not y          # x não é o mesmo que y\n",
    "x and y             # x e y\n",
    "x or y              # x ou y\n",
    "not x               # não x (x negado)"
   ]
  },
  {
   "cell_type": "markdown",
   "metadata": {},
   "source": [
    "### Estruturas Condicionais\n",
    "\n",
    "Assim como em outras linguagens, temos if else e elif (else if), porém são estruturados de forma diferente, sem parêntesis e seguidos de \":\"."
   ]
  },
  {
   "cell_type": "code",
   "execution_count": null,
   "metadata": {},
   "outputs": [],
   "source": [
    "x = 1\n",
    "y = 0\n",
    "\n",
    "if x == y:\n",
    "    print(\"x é igual a y\")\n",
    "elif x == 0:\n",
    "    print(\"x é igual a 0\");\n",
    "else :\n",
    "    print(\"x é igual a 1\")"
   ]
  },
  {
   "cell_type": "markdown",
   "metadata": {},
   "source": [
    "### Try e Except\n",
    "\n",
    "try/except são estruturas condicionáis análogas ao try/catch do java, usadas para manipular possíveis erros no código."
   ]
  },
  {
   "cell_type": "code",
   "execution_count": null,
   "metadata": {},
   "outputs": [],
   "source": [
    "inp = input('Enter Fahrenheit Temperature:')\n",
    "try:\n",
    "    fahr = float(inp)\n",
    "    cel = (fahr - 32.0) * 5.0 / 9.0\n",
    "    print(cel)\n",
    "except:\n",
    "    print('Please enter a number')"
   ]
  },
  {
   "cell_type": "markdown",
   "metadata": {},
   "source": [
    "## Funções\n",
    "\n",
    "Para criar sua função no python, usamos a palavra chave *def*, e após criá-la, podemos chamá-la normalmente. A sintaxe de *def* é:\n",
    "\n",
    "```\n",
    "    def nomeDaFuncao(parametros)\n",
    "        codigo\n",
    "        return var        \n",
    "```\n",
    "\n",
    "Podemos também ter funções com parâmetro vazio e sem retornar nada."
   ]
  },
  {
   "cell_type": "code",
   "execution_count": null,
   "metadata": {},
   "outputs": [],
   "source": [
    "def printOI():\n",
    "    print(\"Olá\")\n",
    "\n",
    "\n",
    "\n",
    "def retQuadrado(num):\n",
    "    num = num*num\n",
    "    return num\n",
    "\n",
    "x = 3\n",
    "y = retQuadrado(x)\n",
    "\n",
    "printOI()\n",
    "print(x)\n",
    "print(y)"
   ]
  },
  {
   "cell_type": "markdown",
   "metadata": {},
   "source": [
    "## Iteração\n",
    "\n",
    "### While\n",
    "\n",
    "while em python é diferente das outras linguagens de programação, tendo uma sintaxe parecida com a do if."
   ]
  },
  {
   "cell_type": "code",
   "execution_count": null,
   "metadata": {},
   "outputs": [],
   "source": [
    "x = 0\n",
    "while x is not 10:\n",
    "    print(x)\n",
    "    x = x+1\n",
    " "
   ]
  },
  {
   "cell_type": "markdown",
   "metadata": {},
   "source": [
    "Também é possível fazer laços infinitos:"
   ]
  },
  {
   "cell_type": "code",
   "execution_count": null,
   "metadata": {},
   "outputs": [],
   "source": [
    "x =0\n",
    "while True:\n",
    "    if x is not 25:\n",
    "        x = x+1\n",
    "        print(x)\n",
    "    else :\n",
    "        break\n"
   ]
  },
  {
   "cell_type": "markdown",
   "metadata": {},
   "source": [
    "\n",
    "### Continue\n",
    "\n",
    "Em um laço de repetição *continue* é uma palavra que pula uma iteração"
   ]
  },
  {
   "cell_type": "code",
   "execution_count": null,
   "metadata": {},
   "outputs": [],
   "source": [
    "x = 0\n",
    "\n",
    "while x != 30:\n",
    "    print(\"Essa é a iteração \",x)\n",
    "    if x == 2:\n",
    "        print(\"Iteração Pulada\")\n",
    "        x = 30\n",
    "        continue\n",
    "    else :\n",
    "        x = x+1\n",
    "\n",
    "print(\"x agora tem o valor: \",x)"
   ]
  },
  {
   "cell_type": "markdown",
   "metadata": {},
   "source": [
    "### Break\n",
    "\n",
    "Assim como em outras linguagens de programação, podemos usar break para parar laços e condicionais"
   ]
  },
  {
   "cell_type": "code",
   "execution_count": null,
   "metadata": {},
   "outputs": [],
   "source": [
    "x = 0\n",
    "\n",
    "while x != 30:\n",
    "    print(\"Essa é a iteração \",x)\n",
    "    if x == 2:\n",
    "        print(\"parando o código\")\n",
    "        break\n",
    "    else :\n",
    "        x = x+1\n",
    "\n",
    "print(\"x agora tem o valor: \",x)"
   ]
  },
  {
   "cell_type": "markdown",
   "metadata": {},
   "source": [
    "### For\n",
    "\n",
    "O laço for itera sobre um conjunto de itens conhecidos até que sejam executadas tantas iterações quanto o número de itens nesse conjunto. A sintaxe é parecida com a do while, porém com a adição da palavra in, que define qual conjunto deve ser iterado."
   ]
  },
  {
   "cell_type": "code",
   "execution_count": null,
   "metadata": {},
   "outputs": [],
   "source": [
    "amigos = ['Jose', 'Gleice', 'Sara']\n",
    "for amigo in amigos:\n",
    "    print('Feliz Ano Novo', amigo)\n",
    "print('Feito!')\n"
   ]
  },
  {
   "cell_type": "markdown",
   "metadata": {},
   "source": [
    "Além de iterar em conjuntos, podemos iterar por vezes, usando a palavra *range*."
   ]
  },
  {
   "cell_type": "code",
   "execution_count": null,
   "metadata": {},
   "outputs": [],
   "source": [
    "for x in range(10):\n",
    "    print(x)\n",
    "\n",
    "print('Acabou!')"
   ]
  },
  {
   "cell_type": "markdown",
   "metadata": {},
   "source": [
    "## Strings\n",
    "\n",
    "- Podemos obter o tamanho de uma string usando a função `len()`\n",
    "\n",
    "### Imutabilidade\n",
    "\n",
    "Ao contrário de C, em python strings são imutáveis, ou seja, não é possível trocar o caracter de uma de suas posições.\n",
    "\n",
    "### Segmentos de String\n",
    "\n",
    "Um segmento de string é chamado de ***slice***. A seleção de um slice é semelhante à seleção de um caracter na string, porém, ao invés de selecionar a posição desejada, fazemos um range de \"começo:fim\" do slice\n"
   ]
  },
  {
   "cell_type": "code",
   "execution_count": 7,
   "metadata": {},
   "outputs": [
    {
     "name": "stdout",
     "output_type": "stream",
     "text": [
      "O tamanho de a é : 5\n",
      "co\n"
     ]
    }
   ],
   "source": [
    "a = \"coisa\"\n",
    "\n",
    "print(\"O tamanho de a é :\",len(a))\n",
    "print(a[0:2])"
   ]
  },
  {
   "cell_type": "markdown",
   "metadata": {},
   "source": [
    "### In\n",
    "\n",
    "A palavra *in* é um operador booleano que compara duas strings e retorna True se a primeira estiver contida na segunda.\n",
    "\n",
    "### Comparações\n",
    "\n",
    "Operadores de comparação também funcionam em strings."
   ]
  },
  {
   "cell_type": "code",
   "execution_count": null,
   "metadata": {},
   "outputs": [],
   "source": [
    "a = \"a\"\n",
    "banana = \"banana\"\n",
    "\n",
    "print(a in banana)\n",
    "print(a == banana)"
   ]
  },
  {
   "cell_type": "markdown",
   "metadata": {},
   "source": [
    "### Métodos de Strings\n",
    "\n",
    "Strings são objetos em python, e como objetos, têm direito de acessar os métodos da sua classe (String). Para saber quais são esses métodos, use a função *dir*."
   ]
  },
  {
   "cell_type": "code",
   "execution_count": null,
   "metadata": {},
   "outputs": [],
   "source": [
    "a = \"item\" \n",
    "\n",
    "print(dir(a))"
   ]
  },
  {
   "cell_type": "markdown",
   "metadata": {},
   "source": [
    "### Particionando Strings\n",
    "\n",
    "Podemos particionar uma string usando o método find() para achar um caracter específico e colocar o pedaço da string que queremos em outras substrings."
   ]
  },
  {
   "cell_type": "code",
   "execution_count": null,
   "metadata": {},
   "outputs": [],
   "source": [
    "data = 'From stephen.marquard@uct.ac.za Sat Jan 5 09:14:16 2008'\n",
    "atpos = data.find('@')\n",
    "print(atpos)\n",
    "\n",
    "sppos = data.find(' ',atpos)       # Essa versão do método permite especificar onde vamos começar a procurar\n",
    "print(sppos)\n",
    "\n",
    "host = data[atpos+1:sppos]\n",
    "print(host)"
   ]
  },
  {
   "cell_type": "markdown",
   "metadata": {},
   "source": [
    "### Operador de Formatação\n",
    "\n",
    "O operador de formatação ***%*** permite construir strings, substituindo parte dessas strings por informações contidas em variáveis. É o mesmo operador mod, porém quando o primeiro operando é uma string, é o operador de formatação. Para formatar uma string, precisamos das substrings de formatação. São elas %d para numeros inteiros, %g para numeros reais e %s para strings. Veja o exemplo:"
   ]
  },
  {
   "cell_type": "code",
   "execution_count": null,
   "metadata": {},
   "outputs": [],
   "source": [
    "frase = 'Em %d anos eu vi %g %s.' \n",
    "print(frase)\n",
    "frase = frase % (3, 0.1, 'camelos') \n",
    "print(frase)"
   ]
  }
 ],
 "metadata": {
  "kernelspec": {
   "display_name": "Python 3.10.7 64-bit (microsoft store)",
   "language": "python",
   "name": "python3"
  },
  "language_info": {
   "codemirror_mode": {
    "name": "ipython",
    "version": 3
   },
   "file_extension": ".py",
   "mimetype": "text/x-python",
   "name": "python",
   "nbconvert_exporter": "python",
   "pygments_lexer": "ipython3",
   "version": "3.10.8"
  },
  "orig_nbformat": 4,
  "vscode": {
   "interpreter": {
    "hash": "eed5d0e98674c91e5b6a352f0a08e3131dd647db755fe385a4350c9735e61ebb"
   }
  }
 },
 "nbformat": 4,
 "nbformat_minor": 2
}
